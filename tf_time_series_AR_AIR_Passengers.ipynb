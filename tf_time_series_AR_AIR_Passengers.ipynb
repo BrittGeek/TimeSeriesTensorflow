{
 "cells": [
  {
   "cell_type": "code",
   "execution_count": 1,
   "metadata": {
    "collapsed": false,
    "deletable": true,
    "editable": true
   },
   "outputs": [
    {
     "name": "stderr",
     "output_type": "stream",
     "text": [
      "/Users/qp19/anaconda2/envs/oreillytf/lib/python2.7/site-packages/h5py/__init__.py:36: FutureWarning: Conversion of the second argument of issubdtype from `float` to `np.floating` is deprecated. In future, it will be treated as `np.float64 == np.dtype(float).type`.\n",
      "  from ._conv import register_converters as _register_converters\n"
     ]
    }
   ],
   "source": [
    "import tensorflow as tf "
   ]
  },
  {
   "cell_type": "code",
   "execution_count": 2,
   "metadata": {
    "collapsed": false,
    "deletable": true,
    "editable": true
   },
   "outputs": [
    {
     "data": {
      "text/plain": [
       "'1.8.0'"
      ]
     },
     "execution_count": 2,
     "metadata": {},
     "output_type": "execute_result"
    }
   ],
   "source": [
    "tf.VERSION"
   ]
  },
  {
   "cell_type": "code",
   "execution_count": 3,
   "metadata": {
    "collapsed": false,
    "deletable": true,
    "editable": true
   },
   "outputs": [
    {
     "data": {
      "text/plain": [
       "'1.8.0'"
      ]
     },
     "execution_count": 3,
     "metadata": {},
     "output_type": "execute_result"
    }
   ],
   "source": [
    "import numpy as np\n",
    "import tensorflow as tf\n",
    "from tensorflow.contrib.timeseries.python.timeseries import NumpyReader\n",
    "tf.logging.set_verbosity(tf.logging.WARN)\n",
    "tf.__version__"
   ]
  },
  {
   "cell_type": "code",
   "execution_count": 4,
   "metadata": {
    "collapsed": true,
    "deletable": true,
    "editable": true
   },
   "outputs": [],
   "source": [
    "%matplotlib inline\n",
    "import matplotlib\n",
    "import matplotlib.pyplot as plt\n",
    "import pandas as pd\n",
    "import seaborn as sns\n",
    "sns.set()\n",
    "sns.set_context(\"notebook\", font_scale=1.2, rc={\"lines.linewidth\": 1.5})"
   ]
  },
  {
   "cell_type": "code",
   "execution_count": 6,
   "metadata": {
    "collapsed": false,
    "deletable": true,
    "editable": true
   },
   "outputs": [],
   "source": [
    "#Load Air Passengers \n",
    "Passengers = pd.read_csv('AirPassengers.csv') #,index_col='month')\n",
    "#Passengers.index = pd.to_datetime(Passengers.index)"
   ]
  },
  {
   "cell_type": "code",
   "execution_count": 7,
   "metadata": {
    "collapsed": false,
    "deletable": true,
    "editable": true
   },
   "outputs": [
    {
     "data": {
      "text/html": [
       "<div>\n",
       "<style scoped>\n",
       "    .dataframe tbody tr th:only-of-type {\n",
       "        vertical-align: middle;\n",
       "    }\n",
       "\n",
       "    .dataframe tbody tr th {\n",
       "        vertical-align: top;\n",
       "    }\n",
       "\n",
       "    .dataframe thead th {\n",
       "        text-align: right;\n",
       "    }\n",
       "</style>\n",
       "<table border=\"1\" class=\"dataframe\">\n",
       "  <thead>\n",
       "    <tr style=\"text-align: right;\">\n",
       "      <th></th>\n",
       "      <th>month</th>\n",
       "      <th>x</th>\n",
       "    </tr>\n",
       "  </thead>\n",
       "  <tbody>\n",
       "    <tr>\n",
       "      <th>0</th>\n",
       "      <td>1/1/1949</td>\n",
       "      <td>112</td>\n",
       "    </tr>\n",
       "    <tr>\n",
       "      <th>1</th>\n",
       "      <td>2/1/1949</td>\n",
       "      <td>118</td>\n",
       "    </tr>\n",
       "    <tr>\n",
       "      <th>2</th>\n",
       "      <td>3/1/1949</td>\n",
       "      <td>132</td>\n",
       "    </tr>\n",
       "    <tr>\n",
       "      <th>3</th>\n",
       "      <td>4/1/1949</td>\n",
       "      <td>129</td>\n",
       "    </tr>\n",
       "    <tr>\n",
       "      <th>4</th>\n",
       "      <td>5/1/1949</td>\n",
       "      <td>121</td>\n",
       "    </tr>\n",
       "  </tbody>\n",
       "</table>\n",
       "</div>"
      ],
      "text/plain": [
       "      month    x\n",
       "0  1/1/1949  112\n",
       "1  2/1/1949  118\n",
       "2  3/1/1949  132\n",
       "3  4/1/1949  129\n",
       "4  5/1/1949  121"
      ]
     },
     "execution_count": 7,
     "metadata": {},
     "output_type": "execute_result"
    }
   ],
   "source": [
    "Passengers.head()"
   ]
  },
  {
   "cell_type": "code",
   "execution_count": 8,
   "metadata": {
    "collapsed": false,
    "deletable": true,
    "editable": true
   },
   "outputs": [
    {
     "data": {
      "text/plain": [
       "['month', 'x']"
      ]
     },
     "execution_count": 8,
     "metadata": {},
     "output_type": "execute_result"
    }
   ],
   "source": [
    "list(Passengers)"
   ]
  },
  {
   "cell_type": "code",
   "execution_count": 9,
   "metadata": {
    "collapsed": false,
    "deletable": true,
    "editable": true
   },
   "outputs": [],
   "source": [
    "x = Passengers.as_matrix(columns=Passengers.columns[0:1])"
   ]
  },
  {
   "cell_type": "code",
   "execution_count": 10,
   "metadata": {
    "collapsed": false,
    "deletable": true,
    "editable": true
   },
   "outputs": [
    {
     "data": {
      "text/plain": [
       "array([['1/1/1949'],\n",
       "       ['2/1/1949'],\n",
       "       ['3/1/1949'],\n",
       "       ['4/1/1949'],\n",
       "       ['5/1/1949'],\n",
       "       ['6/1/1949'],\n",
       "       ['7/1/1949'],\n",
       "       ['8/1/1949'],\n",
       "       ['9/1/1949'],\n",
       "       ['10/1/1949'],\n",
       "       ['11/1/1949'],\n",
       "       ['12/1/1949'],\n",
       "       ['1/1/1950'],\n",
       "       ['2/1/1950'],\n",
       "       ['3/1/1950'],\n",
       "       ['4/1/1950'],\n",
       "       ['5/1/1950'],\n",
       "       ['6/1/1950'],\n",
       "       ['7/1/1950'],\n",
       "       ['8/1/1950'],\n",
       "       ['9/1/1950'],\n",
       "       ['10/1/1950'],\n",
       "       ['11/1/1950'],\n",
       "       ['12/1/1950'],\n",
       "       ['1/1/1951'],\n",
       "       ['2/1/1951'],\n",
       "       ['3/1/1951'],\n",
       "       ['4/1/1951'],\n",
       "       ['5/1/1951'],\n",
       "       ['6/1/1951'],\n",
       "       ['7/1/1951'],\n",
       "       ['8/1/1951'],\n",
       "       ['9/1/1951'],\n",
       "       ['10/1/1951'],\n",
       "       ['11/1/1951'],\n",
       "       ['12/1/1951'],\n",
       "       ['1/1/1952'],\n",
       "       ['2/1/1952'],\n",
       "       ['3/1/1952'],\n",
       "       ['4/1/1952'],\n",
       "       ['5/1/1952'],\n",
       "       ['6/1/1952'],\n",
       "       ['7/1/1952'],\n",
       "       ['8/1/1952'],\n",
       "       ['9/1/1952'],\n",
       "       ['10/1/1952'],\n",
       "       ['11/1/1952'],\n",
       "       ['12/1/1952'],\n",
       "       ['1/1/1953'],\n",
       "       ['2/1/1953'],\n",
       "       ['3/1/1953'],\n",
       "       ['4/1/1953'],\n",
       "       ['5/1/1953'],\n",
       "       ['6/1/1953'],\n",
       "       ['7/1/1953'],\n",
       "       ['8/1/1953'],\n",
       "       ['9/1/1953'],\n",
       "       ['10/1/1953'],\n",
       "       ['11/1/1953'],\n",
       "       ['12/1/1953'],\n",
       "       ['1/1/1954'],\n",
       "       ['2/1/1954'],\n",
       "       ['3/1/1954'],\n",
       "       ['4/1/1954'],\n",
       "       ['5/1/1954'],\n",
       "       ['6/1/1954'],\n",
       "       ['7/1/1954'],\n",
       "       ['8/1/1954'],\n",
       "       ['9/1/1954'],\n",
       "       ['10/1/1954'],\n",
       "       ['11/1/1954'],\n",
       "       ['12/1/1954'],\n",
       "       ['1/1/1955'],\n",
       "       ['2/1/1955'],\n",
       "       ['3/1/1955'],\n",
       "       ['4/1/1955'],\n",
       "       ['5/1/1955'],\n",
       "       ['6/1/1955'],\n",
       "       ['7/1/1955'],\n",
       "       ['8/1/1955'],\n",
       "       ['9/1/1955'],\n",
       "       ['10/1/1955'],\n",
       "       ['11/1/1955'],\n",
       "       ['12/1/1955'],\n",
       "       ['1/1/1956'],\n",
       "       ['2/1/1956'],\n",
       "       ['3/1/1956'],\n",
       "       ['4/1/1956'],\n",
       "       ['5/1/1956'],\n",
       "       ['6/1/1956'],\n",
       "       ['7/1/1956'],\n",
       "       ['8/1/1956'],\n",
       "       ['9/1/1956'],\n",
       "       ['10/1/1956'],\n",
       "       ['11/1/1956'],\n",
       "       ['12/1/1956'],\n",
       "       ['1/1/1957'],\n",
       "       ['2/1/1957'],\n",
       "       ['3/1/1957'],\n",
       "       ['4/1/1957'],\n",
       "       ['5/1/1957'],\n",
       "       ['6/1/1957'],\n",
       "       ['7/1/1957'],\n",
       "       ['8/1/1957'],\n",
       "       ['9/1/1957'],\n",
       "       ['10/1/1957'],\n",
       "       ['11/1/1957'],\n",
       "       ['12/1/1957'],\n",
       "       ['1/1/1958'],\n",
       "       ['2/1/1958'],\n",
       "       ['3/1/1958'],\n",
       "       ['4/1/1958'],\n",
       "       ['5/1/1958'],\n",
       "       ['6/1/1958'],\n",
       "       ['7/1/1958'],\n",
       "       ['8/1/1958'],\n",
       "       ['9/1/1958'],\n",
       "       ['10/1/1958'],\n",
       "       ['11/1/1958'],\n",
       "       ['12/1/1958'],\n",
       "       ['1/1/1959'],\n",
       "       ['2/1/1959'],\n",
       "       ['3/1/1959'],\n",
       "       ['4/1/1959'],\n",
       "       ['5/1/1959'],\n",
       "       ['6/1/1959'],\n",
       "       ['7/1/1959'],\n",
       "       ['8/1/1959'],\n",
       "       ['9/1/1959'],\n",
       "       ['10/1/1959'],\n",
       "       ['11/1/1959'],\n",
       "       ['12/1/1959'],\n",
       "       ['1/1/1960'],\n",
       "       ['2/1/1960'],\n",
       "       ['3/1/1960'],\n",
       "       ['4/1/1960'],\n",
       "       ['5/1/1960'],\n",
       "       ['6/1/1960'],\n",
       "       ['7/1/1960'],\n",
       "       ['8/1/1960'],\n",
       "       ['9/1/1960'],\n",
       "       ['10/1/1960'],\n",
       "       ['11/1/1960'],\n",
       "       ['12/1/1960']], dtype=object)"
      ]
     },
     "execution_count": 10,
     "metadata": {},
     "output_type": "execute_result"
    }
   ],
   "source": [
    "x"
   ]
  },
  {
   "cell_type": "code",
   "execution_count": 11,
   "metadata": {
    "collapsed": true,
    "deletable": true,
    "editable": true
   },
   "outputs": [],
   "source": [
    "y = Passengers.as_matrix(columns=Passengers.columns[1:2])"
   ]
  },
  {
   "cell_type": "code",
   "execution_count": 12,
   "metadata": {
    "collapsed": false,
    "deletable": true,
    "editable": true
   },
   "outputs": [
    {
     "data": {
      "text/plain": [
       "array([[112],\n",
       "       [118],\n",
       "       [132],\n",
       "       [129],\n",
       "       [121],\n",
       "       [135],\n",
       "       [148],\n",
       "       [148],\n",
       "       [136],\n",
       "       [119],\n",
       "       [104],\n",
       "       [118],\n",
       "       [115],\n",
       "       [126],\n",
       "       [141],\n",
       "       [135],\n",
       "       [125],\n",
       "       [149],\n",
       "       [170],\n",
       "       [170],\n",
       "       [158],\n",
       "       [133],\n",
       "       [114],\n",
       "       [140],\n",
       "       [145],\n",
       "       [150],\n",
       "       [178],\n",
       "       [163],\n",
       "       [172],\n",
       "       [178],\n",
       "       [199],\n",
       "       [199],\n",
       "       [184],\n",
       "       [162],\n",
       "       [146],\n",
       "       [166],\n",
       "       [171],\n",
       "       [180],\n",
       "       [193],\n",
       "       [181],\n",
       "       [183],\n",
       "       [218],\n",
       "       [230],\n",
       "       [242],\n",
       "       [209],\n",
       "       [191],\n",
       "       [172],\n",
       "       [194],\n",
       "       [196],\n",
       "       [196],\n",
       "       [236],\n",
       "       [235],\n",
       "       [229],\n",
       "       [243],\n",
       "       [264],\n",
       "       [272],\n",
       "       [237],\n",
       "       [211],\n",
       "       [180],\n",
       "       [201],\n",
       "       [204],\n",
       "       [188],\n",
       "       [235],\n",
       "       [227],\n",
       "       [234],\n",
       "       [264],\n",
       "       [302],\n",
       "       [293],\n",
       "       [259],\n",
       "       [229],\n",
       "       [203],\n",
       "       [229],\n",
       "       [242],\n",
       "       [233],\n",
       "       [267],\n",
       "       [269],\n",
       "       [270],\n",
       "       [315],\n",
       "       [364],\n",
       "       [347],\n",
       "       [312],\n",
       "       [274],\n",
       "       [237],\n",
       "       [278],\n",
       "       [284],\n",
       "       [277],\n",
       "       [317],\n",
       "       [313],\n",
       "       [318],\n",
       "       [374],\n",
       "       [413],\n",
       "       [405],\n",
       "       [355],\n",
       "       [306],\n",
       "       [271],\n",
       "       [306],\n",
       "       [315],\n",
       "       [301],\n",
       "       [356],\n",
       "       [348],\n",
       "       [355],\n",
       "       [422],\n",
       "       [465],\n",
       "       [467],\n",
       "       [404],\n",
       "       [347],\n",
       "       [305],\n",
       "       [336],\n",
       "       [340],\n",
       "       [318],\n",
       "       [362],\n",
       "       [348],\n",
       "       [363],\n",
       "       [435],\n",
       "       [491],\n",
       "       [505],\n",
       "       [404],\n",
       "       [359],\n",
       "       [310],\n",
       "       [337],\n",
       "       [360],\n",
       "       [342],\n",
       "       [406],\n",
       "       [396],\n",
       "       [420],\n",
       "       [472],\n",
       "       [548],\n",
       "       [559],\n",
       "       [463],\n",
       "       [407],\n",
       "       [362],\n",
       "       [405],\n",
       "       [417],\n",
       "       [391],\n",
       "       [419],\n",
       "       [461],\n",
       "       [472],\n",
       "       [535],\n",
       "       [622],\n",
       "       [606],\n",
       "       [508],\n",
       "       [461],\n",
       "       [390],\n",
       "       [432]])"
      ]
     },
     "execution_count": 12,
     "metadata": {},
     "output_type": "execute_result"
    }
   ],
   "source": [
    "y"
   ]
  },
  {
   "cell_type": "code",
   "execution_count": 13,
   "metadata": {
    "collapsed": false,
    "deletable": true,
    "editable": true
   },
   "outputs": [],
   "source": [
    "x = np.array(range(len(y)))"
   ]
  },
  {
   "cell_type": "code",
   "execution_count": 14,
   "metadata": {
    "collapsed": false,
    "deletable": true,
    "editable": true
   },
   "outputs": [
    {
     "data": {
      "text/plain": [
       "array([  0,   1,   2,   3,   4,   5,   6,   7,   8,   9,  10,  11,  12,\n",
       "        13,  14,  15,  16,  17,  18,  19,  20,  21,  22,  23,  24,  25,\n",
       "        26,  27,  28,  29,  30,  31,  32,  33,  34,  35,  36,  37,  38,\n",
       "        39,  40,  41,  42,  43,  44,  45,  46,  47,  48,  49,  50,  51,\n",
       "        52,  53,  54,  55,  56,  57,  58,  59,  60,  61,  62,  63,  64,\n",
       "        65,  66,  67,  68,  69,  70,  71,  72,  73,  74,  75,  76,  77,\n",
       "        78,  79,  80,  81,  82,  83,  84,  85,  86,  87,  88,  89,  90,\n",
       "        91,  92,  93,  94,  95,  96,  97,  98,  99, 100, 101, 102, 103,\n",
       "       104, 105, 106, 107, 108, 109, 110, 111, 112, 113, 114, 115, 116,\n",
       "       117, 118, 119, 120, 121, 122, 123, 124, 125, 126, 127, 128, 129,\n",
       "       130, 131, 132, 133, 134, 135, 136, 137, 138, 139, 140, 141, 142,\n",
       "       143])"
      ]
     },
     "execution_count": 14,
     "metadata": {},
     "output_type": "execute_result"
    }
   ],
   "source": [
    "x"
   ]
  },
  {
   "cell_type": "code",
   "execution_count": 15,
   "metadata": {
    "collapsed": false,
    "deletable": true,
    "editable": true
   },
   "outputs": [
    {
     "data": {
      "image/png": "[encoded data removed]",
      "text/plain": [
       "<matplotlib.figure.Figure at 0x1291ae050>"
      ]
     },
     "metadata": {},
     "output_type": "display_data"
    }
   ],
   "source": [
    "plt.figure(figsize=(12,6))\n",
    "plt.xlabel('Month')\n",
    "plt.ylabel('Passengers')\n",
    "_ = plt.plot(x, y)"
   ]
  },
  {
   "cell_type": "code",
   "execution_count": 16,
   "metadata": {
    "collapsed": false,
    "deletable": true,
    "editable": true
   },
   "outputs": [
    {
     "name": "stdout",
     "output_type": "stream",
     "text": [
      "WARNING:tensorflow:Using temporary folder as model directory: /var/folders/0x/dj_gdwxs50j09mfgw7kqkg243np59x/T/tmpMFyQo9\n"
     ]
    }
   ],
   "source": [
    "data = {\n",
    "    tf.contrib.timeseries.TrainEvalFeatures.TIMES: x,\n",
    "    tf.contrib.timeseries.TrainEvalFeatures.VALUES: y\n",
    "}\n",
    "\n",
    "reader = NumpyReader(data)\n",
    "\n",
    "train_input_fn = tf.contrib.timeseries.RandomWindowInputFn(\n",
    "        reader, batch_size=20, window_size=30)\n",
    "\n",
    "ar = tf.contrib.timeseries.ARRegressor(\n",
    "        periodicities=20, input_window_size=20, output_window_size=10,\n",
    "        num_features=1,\n",
    "        loss=tf.contrib.timeseries.ARModel.NORMAL_LIKELIHOOD_LOSS)\n",
    "\n",
    "_ = ar.train(input_fn=train_input_fn, steps=600)"
   ]
  },
  {
   "cell_type": "code",
   "execution_count": 17,
   "metadata": {
    "collapsed": false,
    "deletable": true,
    "editable": true
   },
   "outputs": [
    {
     "name": "stdout",
     "output_type": "stream",
     "text": [
      "WARNING:tensorflow:Skipping summary for start_tuple, must be a float, np.float32, np.int64, np.int32 or int or a serialized string of Summary.\n",
      "WARNING:tensorflow:Skipping summary for covariance, must be a float, np.float32, np.int64, np.int32 or int or a serialized string of Summary.\n",
      "WARNING:tensorflow:Skipping summary for times, must be a float, np.float32, np.int64, np.int32 or int or a serialized string of Summary.\n",
      "WARNING:tensorflow:Skipping summary for observed, must be a float, np.float32, np.int64, np.int32 or int or a serialized string of Summary.\n",
      "WARNING:tensorflow:Skipping summary for mean, must be a float, np.float32, np.int64, np.int32 or int or a serialized string of Summary.\n"
     ]
    }
   ],
   "source": [
    "evaluation_input_fn = tf.contrib.timeseries.WholeDatasetInputFn(reader)\n",
    "evaluation = ar.evaluate(input_fn=evaluation_input_fn, steps=10)"
   ]
  },
  {
   "cell_type": "code",
   "execution_count": 48,
   "metadata": {
    "collapsed": false,
    "deletable": true,
    "editable": true
   },
   "outputs": [
    {
     "name": "stdout",
     "output_type": "stream",
     "text": [
      "WARNING:tensorflow:Input graph does not use tf.data.Dataset or contain a QueueRunner. That means predict yields forever. This is probably a mistake.\n"
     ]
    }
   ],
   "source": [
    "(predictions,) = tuple(ar.predict(\n",
    "        input_fn=tf.contrib.timeseries.predict_continuation_input_fn(\n",
    "evaluation, steps=40)))"
   ]
  },
  {
   "cell_type": "code",
   "execution_count": 49,
   "metadata": {
    "collapsed": false,
    "deletable": true,
    "editable": true
   },
   "outputs": [
    {
     "data": {
      "image/png": "[encoded data removed]",
      "text/plain": [
       "<matplotlib.figure.Figure at 0x128b46710>"
      ]
     },
     "metadata": {},
     "output_type": "display_data"
    }
   ],
   "source": [
    "plt.figure(figsize=(12,6))\n",
    "x = data['times'].reshape(-1)\n",
    "y = data['values'].reshape(-1)\n",
    "plt.plot(x, data['values'].reshape(-1), ':', label='origin')\n",
    "\n",
    "x = evaluation['times'].reshape(-1)\n",
    "y = evaluation['mean'].reshape(-1)\n",
    "s = np.sqrt(evaluation['covariance'].reshape(-1))\n",
    "plt.plot(x, evaluation['mean'].reshape(-1), label='evaluation', color='green')\n",
    "plt.fill_between(x, y-5*s,y+5*s, alpha=0.1, color='blue')\n",
    "plt.fill_between(x, y-3*s,y+3*s, alpha=0.1, color='blue')\n",
    "\n",
    "x = predictions['times'].reshape(-1)\n",
    "y = predictions['mean'].reshape(-1)\n",
    "s = np.sqrt(predictions['covariance'].reshape(-1))\n",
    "plt.plot(x, y, label='prediction',color='orange')\n",
    "plt.fill_between(x, y-5*s,y+5*s, alpha=0.1, color='orange')\n",
    "plt.fill_between(x, y-3*s,y+3*s, alpha=0.1, color='orange')\n",
    "\n",
    "plt.xlabel('time_step')\n",
    "plt.ylabel('values')\n",
    "_ = plt.legend()"
   ]
  },
  {
   "cell_type": "code",
   "execution_count": null,
   "metadata": {
    "collapsed": true,
    "deletable": true,
    "editable": true
   },
   "outputs": [],
   "source": []
  }
 ],
 "metadata": {
  "kernelspec": {
   "display_name": "Python 2",
   "language": "python",
   "name": "python2"
  },
  "language_info": {
   "codemirror_mode": {
    "name": "ipython",
    "version": 2
   },
   "file_extension": ".py",
   "mimetype": "text/x-python",
   "name": "python",
   "nbconvert_exporter": "python",
   "pygments_lexer": "ipython2",
   "version": "2.7.13"
  }
 },
 "nbformat": 4,
 "nbformat_minor": 2
}
